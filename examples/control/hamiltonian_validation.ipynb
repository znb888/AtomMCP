{
 "cells": [
  {
   "cell_type": "markdown",
   "id": "0",
   "metadata": {},
   "source": [
    "# 验证 `hamiltonian.py` 模块\n",
    "\n",
    "本 Notebook 用于测试 `DuffingOscillatorModel` 类的核心功能：\n",
    "1.  验证主构造函数（基于光谱参数 `omega_q`, `anh`）能否成功创建实例。\n",
    "2.  验证替代构造函数 `from_circuit_params`（基于电路参数 `e_j`, `e_c`）能否成功创建实例并正确计算有效参数。\n",
    "3.  检视 `get_rwa_hamiltonian_template` 和 `get_lab_frame_hamiltonian_template` 方法返回的 QuTiP 算符是否符合预期。"
   ]
  },
  {
   "cell_type": "code",
   "execution_count": null,
   "id": "1",
   "metadata": {},
   "outputs": [],
   "source": [
    "%load_ext autoreload\n",
    "%autoreload 2\n",
    "\n",
    "import numpy as np\n",
    "# 导入我们自己库中的类\n",
    "from quantum_sim import DuffingOscillatorModel\n",
    "import matplotlib.pyplot as plt\n",
    "\n",
    "\n",
    "# 配置 numpy 打印选项，使其更美观\n",
    "np.set_printoptions(precision=3, suppress=True)\n",
    "\n",
    "print(\"模块导入成功。\")"
   ]
  },
  {
   "cell_type": "markdown",
   "id": "2",
   "metadata": {},
   "source": [
    "## 1. 定义基础物理参数\n",
    "\n",
    "我们定义一套基础的电路参数，并由此计算出光谱参数。这将用于后续两种初始化方式的验证。\n",
    "单位系统：时间(ns)，角频率(rad/ns)。"
   ]
  },
  {
   "cell_type": "code",
   "execution_count": null,
   "id": "3",
   "metadata": {},
   "outputs": [],
   "source": [
    "# --- 基础电路参数 (rad/ns) ---\n",
    "# 参考 Chen, 2018, Table 2.1 (E_c=240MHz, E_J=20GHz)\n",
    "# E_c / h = 240 MHz = 0.24 GHz\n",
    "# E_j / h = 20 GHz\n",
    "e_c_rad_ns = 0.24 * 2 * np.pi  # 转换为 rad/ns\n",
    "e_j_rad_ns = 20.0 * 2 * np.pi  # 转换为 rad/ns\n",
    "d_levels = 3 # 模拟的能级数\n",
    "\n",
    "# --- 由此计算出的有效光谱参数 (rad/ns) ---\n",
    "omega_q_rad_ns = np.sqrt(8 * e_j_rad_ns * e_c_rad_ns) - e_c_rad_ns\n",
    "anh_rad_ns = -e_c_rad_ns\n",
    "\n",
    "print(f\"基础电路参数 (rad/ns): E_j = {e_j_rad_ns:.3f}, E_c = {e_c_rad_ns:.3f}\")\n",
    "print(f\"计算得到的光谱参数 (rad/ns): ω_q = {omega_q_rad_ns:.3f}, η = {anh_rad_ns:.3f}\")\n",
    "print(f'换算为 (GHz): E_j = {e_j_rad_ns / (2 * np.pi):.3f}, E_c = {e_c_rad_ns / (2 * np.pi):.3f}')\n",
    "print(f'换算为 (GHz): ω_q = {omega_q_rad_ns / (2 * np.pi):.3f}, η = {anh_rad_ns / (2 * np.pi):.3f}')"
   ]
  },
  {
   "cell_type": "markdown",
   "id": "4",
   "metadata": {},
   "source": [
    "## 2. 验证两种构造函数\n",
    "\n",
    "我们将分别使用光谱参数和电路参数来创建 `DuffingOscillatorModel` 实例，并对比它们的属性，以验证两种初始化方式的等效性。"
   ]
  },
  {
   "cell_type": "code",
   "execution_count": null,
   "id": "5",
   "metadata": {},
   "outputs": [],
   "source": [
    "# 方式一：直接使用光谱参数初始化\n",
    "model_from_spec = DuffingOscillatorModel(d=d_levels, omega_q=omega_q_rad_ns, anh=anh_rad_ns)\n",
    "print(\"--- 通过光谱参数初始化成功 ---\")\n",
    "print(f\"  实例中的 ω_q: {model_from_spec.omega_q:.3f} GHz\")\n",
    "print(f\"  实例中的 η: {model_from_spec.anh:.3f} GHz\")\n",
    "print(\"-\" * 30)\n",
    "\n",
    "# 方式二：使用电路参数通过替代构造函数初始化\n",
    "model_from_circuit = DuffingOscillatorModel.from_circuit_params(d=d_levels, e_j=e_j_rad_ns, e_c=e_c_rad_ns)\n",
    "print(\"--- 通过电路参数初始化成功 ---\")\n",
    "print(f\"  实例中的 ω_q (内部计算): {model_from_circuit.omega_q:.3f} GHz\")\n",
    "print(f\"  实例中的 η (内部计算): {model_from_circuit.anh:.3f} GHz\")\n",
    "print(\"-\" * 30)\n",
    "\n",
    "# 验证二者计算结果是否一致\n",
    "assert np.isclose(model_from_spec.omega_q, model_from_circuit.omega_q), \"ω_q 不一致！\"\n",
    "assert np.isclose(model_from_spec.anh, model_from_circuit.anh), \"非谐性 η 不一致！\"\n",
    "\n",
    "print(\"✅ 验证通过：两种初始化方式结果一致。\")"
   ]
  },
  {
   "cell_type": "markdown",
   "id": "6",
   "metadata": {},
   "source": [
    "## 3. 验证哈密顿量模板\n",
    "\n",
    "现在我们从一个已创建的实例中，获取 RWA 和 Lab Frame 的哈密顿量模板，并打印出来检视其结构和数值是否正确。"
   ]
  },
  {
   "cell_type": "code",
   "execution_count": null,
   "id": "7",
   "metadata": {},
   "outputs": [],
   "source": [
    "# 获取 RWA 哈密顿量模板\n",
    "drift_hamiltonian = model_from_spec.get_drift_hamiltonian(use_rwa=True)\n",
    "control_hamiltonians = model_from_spec.get_control_hamiltonian(use_rwa=True)\n",
    "\n",
    "h_control_i = control_hamiltonians['XY_drive']['H_I']\n",
    "h_control_q = control_hamiltonians['XY_drive']['H_Q']\n",
    "\n",
    "print(\"--- RWA 哈密顿量模板 ---\")\n",
    "print(\"\\n1. 自由哈密顿量 (H_drift_rot):\")\n",
    "print(drift_hamiltonian)\n",
    "print(\"\\n2. I 路控制算符 (H_control_I, a + a†):\")\n",
    "print(h_control_i)\n",
    "print(\"\\n3. Q 路控制算符 (H_control_Q, i(a† - a)):\")\n",
    "print(h_control_q)"
   ]
  },
  {
   "cell_type": "code",
   "execution_count": null,
   "id": "8",
   "metadata": {},
   "outputs": [],
   "source": [
    "# 获取 Lab Frame 哈密顿量模板\n",
    "drift_hamiltonian = model_from_spec.get_drift_hamiltonian(use_rwa=False)\n",
    "control_hamiltonians = model_from_spec.get_control_hamiltonian(use_rwa=False)\n",
    "\n",
    "print(\"--- Lab Frame 哈密顿量模板 ---\")\n",
    "print(\"\\n1. 自由哈密顿量 (H_drift_lab):\")\n",
    "print(drift_hamiltonian)\n",
    "print(\"\\n2. 控制算符 (H_control_lab, a + a†):\")\n",
    "print(control_hamiltonians)"
   ]
  },
  {
   "cell_type": "markdown",
   "id": "9",
   "metadata": {},
   "source": [
    "## 4. 验证哈密顿量画能级图功能\n",
    "\n"
   ]
  },
  {
   "cell_type": "code",
   "execution_count": null,
   "id": "10",
   "metadata": {},
   "outputs": [],
   "source": [
    "# --- 验证能级图可视化功能 ---\n",
    "\n",
    "print(\"正在为 model_from_spec 对象生成能级图...\")\n",
    "\n",
    "# 直接从模型对象调用新的可视化方法\n",
    "model_from_spec.visualize_energy_levels(unit='GHz')\n",
    "\n",
    "print(\"\\n能级图（单位 GHz）显示完成。\")\n",
    "\n",
    "\n",
    "print(\"\\n尝试使用 rad/ns 单位重新生成...\")\n",
    "model_from_spec.visualize_energy_levels(unit='rad/ns')\n",
    "print(\"\\n能级图（单位 rad/ns）显示完成。\")"
   ]
  },
  {
   "cell_type": "code",
   "execution_count": null,
   "id": "11",
   "metadata": {},
   "outputs": [],
   "source": []
  }
 ],
 "metadata": {
  "kernelspec": {
   "display_name": "qutip-env",
   "language": "python",
   "name": "python3"
  },
  "language_info": {
   "codemirror_mode": {
    "name": "ipython",
    "version": 3
   },
   "file_extension": ".py",
   "mimetype": "text/x-python",
   "name": "python",
   "nbconvert_exporter": "python",
   "pygments_lexer": "ipython3",
   "version": "3.11.13"
  }
 },
 "nbformat": 4,
 "nbformat_minor": 5
}
