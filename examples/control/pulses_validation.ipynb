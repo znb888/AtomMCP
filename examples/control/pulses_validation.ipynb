{
 "cells": [
  {
   "cell_type": "markdown",
   "id": "0",
   "metadata": {},
   "source": [
    "# 验证 `pulses.py` 模块\n",
    "\n",
    "本 Notebook 用于测试和演示 `pulses.py` 模块的核心功能。我们将分步验证：\n",
    "1.  基础包络类 `GaussianEnvelope` 的正确性。\n",
    "2.  `DRAGCorrector` 对 `EnvelopeModulatedSequence` 的修正效果。\n",
    "3.  为 RWA 和 Lab Frame 两种仿真模式生成信号的能力。"
   ]
  },
  {
   "cell_type": "code",
   "execution_count": null,
   "id": "1",
   "metadata": {},
   "outputs": [],
   "source": [
    "%load_ext autoreload\n",
    "%autoreload 2\n",
    "\n",
    "import numpy as np\n",
    "import matplotlib.pyplot as plt\n",
    "import platform # 导入 platform 库来判断操作系统\n",
    "\n",
    "# --- 中文显示解决方案 ---\n",
    "# 根据您的操作系统，选择一个可用的中文字体\n",
    "system_os = platform.system()\n",
    "if system_os == 'Windows':\n",
    "    # Windows 系统，例如：'SimHei' (黑体), 'Microsoft YaHei' (微软雅黑)\n",
    "    plt.rcParams['font.sans-serif'] = ['Microsoft YaHei']\n",
    "elif system_os == 'Darwin':\n",
    "    # macOS 系统\n",
    "    plt.rcParams['font.sans-serif'] = ['PingFang SC']\n",
    "else:\n",
    "    # Linux 系统，需要确认已安装相应字体，例如：'WenQuanYi Micro Hei'\n",
    "    plt.rcParams['font.sans-serif'] = ['WenQuanYi Micro Hei']\n",
    "\n",
    "# 解决负号 '-' 显示为方块的问题\n",
    "plt.rcParams['axes.unicode_minus'] = False\n",
    "# -------------------------\n",
    "\n",
    "\n",
    "# 导入我们自己库中的类\n",
    "from quantum_sim.pulses import *\n",
    "\n",
    "# 设置 matplotlib 绘图样式\n",
    "# plt.style.use('seaborn-v0_8-whitegrid') # 您可以继续使用您喜欢的样式\n",
    "print(\"模块导入及 Matplotlib 中文环境配置完成。\")"
   ]
  },
  {
   "cell_type": "markdown",
   "id": "2",
   "metadata": {},
   "source": [
    "## 1. 定义物理和脉冲参数\n",
    "\n",
    "我们首先定义一套贯穿整个测试的、符合物理实际的参数。"
   ]
  },
  {
   "cell_type": "code",
   "execution_count": null,
   "id": "3",
   "metadata": {},
   "outputs": [],
   "source": [
    "# 物理参数 (参考 Chen, 2018, Table 2.1)\n",
    "qubit_freq = 5.3 * 2 * np.pi  # 目标量子比特频率 (rad/s GHz)\n",
    "anharmonicity = -0.212 * 2 * np.pi      # 非谐性 (rad/s GHz)\n",
    "\n",
    "# 脉冲参数\n",
    "pulse_duration = 20.0  # ns\n",
    "pulse_sigma = 5.0      # 高斯脉冲的标准差 (ns)\n",
    "# 设置幅度以实现一个名义上的 π 脉冲 (面积 ≈ π)\n",
    "pulse_amp = np.pi / (pulse_sigma * np.sqrt(2 * np.pi)) \n",
    "\n",
    "# DRAG 修正参数\n",
    "drag_alpha = 0.5\n",
    "\n",
    "# 时间轴\n",
    "t_list = np.linspace(0, pulse_duration, 501)\n",
    "\n",
    "print(f\"参数设定完成。脉冲时长: {pulse_duration} ns, 非谐性: {anharmonicity/(2*np.pi):.3f} GHz\")"
   ]
  },
  {
   "cell_type": "markdown",
   "id": "4",
   "metadata": {},
   "source": [
    "## 2. 验证基础包络 `GaussianEnvelope`\n",
    "\n",
    "我们创建 `GaussianEnvelope` 的实例，并可视化其包络值 `.value()` 和解析导数 `.derivative()`，以确认数学实现是否正确。"
   ]
  },
  {
   "cell_type": "code",
   "execution_count": null,
   "id": "5",
   "metadata": {},
   "outputs": [],
   "source": [
    "# 实例化基础包络\n",
    "gauss_envelope = GaussianEnvelope(\n",
    "    duration=pulse_duration,\n",
    "    amp=pulse_amp,\n",
    "    sigma=pulse_sigma\n",
    ")\n",
    "\n",
    "# 计算包络及其导数\n",
    "envelope_values = gauss_envelope.value(t_list)\n",
    "derivative_values = gauss_envelope.derivative(t_list)\n",
    "\n",
    "# 绘图\n",
    "fig, ax = plt.subplots(figsize=(10, 6))\n",
    "ax.plot(t_list, envelope_values, 'b-', linewidth=2, label=r\"包络 $\\Omega(t)$\")\n",
    "ax.plot(t_list, derivative_values, 'g--', linewidth=2, label=r\"解析导数 $\\dot{\\Omega}(t)$\")\n",
    "ax.set_title(\"基础包络 (GaussianEnvelope) 验证\", fontsize=16)\n",
    "ax.set_xlabel(\"时间 (ns)\")\n",
    "ax.set_ylabel(\"幅度 (rad/ns)\")\n",
    "ax.legend(fontsize=12)\n",
    "plt.show()"
   ]
  },
  {
   "cell_type": "code",
   "execution_count": null,
   "id": "6",
   "metadata": {},
   "outputs": [],
   "source": [
    "unmodified_sequence = MicrowaveSequence(\n",
    "    envelope=gauss_envelope,\n",
    "    carrier_freq=qubit_freq\n",
    ")"
   ]
  },
  {
   "cell_type": "code",
   "execution_count": null,
   "id": "7",
   "metadata": {},
   "outputs": [],
   "source": [
    "type(unmodified_sequence)"
   ]
  },
  {
   "cell_type": "markdown",
   "id": "8",
   "metadata": {},
   "source": [
    "## 3. 验证 DRAG 修正与 RWA 信号生成\n",
    "\n",
    "接下来，我们将基础包络封装成 `EnvelopeModulatedSequence`，然后使用 `DRAGCorrector` 对其进行修正，并检查修正前后的 I/Q (RWA) 信号。这是验证我们核心设计——类的组合与分离——的关键一步。"
   ]
  },
  {
   "cell_type": "code",
   "execution_count": null,
   "id": "9",
   "metadata": {},
   "outputs": [],
   "source": [
    "# 1. 创建未修正的控制序列\n",
    "unmodified_sequence = EnvelopeModulatedSequence(\n",
    "    envelope=gauss_envelope,\n",
    "    carrier_freq=qubit_freq\n",
    ")\n",
    "\n",
    "# 2. 创建修正器并应用\n",
    "drag_corrector = DRAGCorrector(anh=anharmonicity, alpha=drag_alpha)\n",
    "drag_corrected_sequence = drag_corrector.apply(unmodified_sequence)\n",
    "\n",
    "# 3. 获取 RWA 信号\n",
    "unmodified_rwa = unmodified_sequence.get_rwa_signals(t_list)\n",
    "corrected_rwa = drag_corrected_sequence.get_rwa_signals(t_list)\n",
    "\n",
    "# 4. 绘图\n",
    "fig, ax = plt.subplots(figsize=(10, 6))\n",
    "ax.plot(t_list, corrected_rwa['I'], 'b-', linewidth=2, label=r\"修正后的 I(t) [$=\\Omega(t)$]\")\n",
    "ax.plot(t_list, corrected_rwa['Q'], 'r-', linewidth=2, label=r\"修正后的 Q(t) [$\\propto \\dot{\\Omega}(t)$]\")\n",
    "ax.plot(t_list, unmodified_rwa['Q'], 'k:', label=\"未修正的 Q(t) [=0]\")\n",
    "ax.set_title(\"RWA 慢变包络验证 (应用 DRAG 修正)\", fontsize=16)\n",
    "ax.set_xlabel(\"时间 (ns)\")\n",
    "ax.set_ylabel(\"幅度 (rad/ns)\")\n",
    "ax.legend(fontsize=12)\n",
    "plt.show()"
   ]
  },
  {
   "cell_type": "markdown",
   "id": "10",
   "metadata": {},
   "source": [
    "## 4. 验证 Lab Frame 信号生成 (高分辨率对比)\n",
    "\n",
    "最后，我们调用修正后与未修正序列的 `get_lab_frame_signal` 方法，并使用一个**高分辨率**的时间轴来生成最终的物理信号，以进行清晰的可视化对比。"
   ]
  },
  {
   "cell_type": "code",
   "execution_count": null,
   "id": "11",
   "metadata": {},
   "outputs": [],
   "source": [
    "# --- 为了清晰绘制高频信号，我们创建一个分辨率更高的时间轴 ---\n",
    "# 将采样点从 501 增加到 4001，确保每个振荡周期有足够的点\n",
    "t_list_high_res = np.linspace(0, pulse_duration, 4001)\n",
    "\n",
    "# 1. 获取未修正序列的 Lab Frame 信号\n",
    "# S(t) = I(t)cos(ωt)，因为 Q(t)=0\n",
    "unmodified_lab_signal = unmodified_sequence.get_lab_frame_signal(t_list_high_res)\n",
    "\n",
    "# 2. 获取 DRAG 修正后序列的 Lab Frame 信号\n",
    "# S(t) = I(t)cos(ωt) + Q(t)sin(ωt)\n",
    "corrected_lab_signal = drag_corrected_sequence.get_lab_frame_signal(t_list_high_res)\n",
    "\n",
    "# 3. 绘图对比\n",
    "fig, axes = plt.subplots(2, 1, figsize=(6, 6))\n",
    "\n",
    "# 绘制未修正的信号 (半透明)\n",
    "axes[0].plot(t_list_high_res, unmodified_lab_signal, color='gray', alpha=0.7, linewidth=1.0, label=r\"无 DRAG: $S(t) = \\Omega_X(t)\\cos(\\omega_{10}t)$\")\n",
    "axes[0].set_title(\"未修正信号\", fontsize=14)\n",
    "axes[0].set_xlabel(\"时间 (ns)\")\n",
    "axes[0].set_ylabel(\"幅度 (rad/ns)\")\n",
    "axes[0].legend(fontsize=12, loc='best')\n",
    "axes[0].grid(True, which='both', linestyle='--', linewidth=0.5)\n",
    "\n",
    "# 绘制 DRAG 修正后的信号 (实体)\n",
    "axes[1].plot(t_list_high_res, corrected_lab_signal, color='purple', linewidth=1.5, label=r\"有 DRAG: $S(t) = \\Omega_X(t)\\cos(\\omega_{10}t) + \\Omega_Y(t)\\sin(\\omega_{10}t)$\")\n",
    "axes[1].set_title(\"Lab Frame 物理信号对比 (高分辨率)\", fontsize=16)\n",
    "axes[1].set_xlabel(\"时间 (ns)\")\n",
    "axes[1].set_ylabel(\"幅度 (rad/ns)\")\n",
    "axes[1].legend(fontsize=12, loc='best')\n",
    "axes[1].grid(True, which='both', linestyle='--', linewidth=0.5)\n",
    "plt.tight_layout()\n",
    "plt.show()"
   ]
  },
  {
   "cell_type": "markdown",
   "id": "12",
   "metadata": {},
   "source": [
    "## 5. 验证新增的 `CosineEnvelope`\n",
    "\n",
    "现在我们来验证新添加的 `CosineEnvelope`，并展示我们的框架如何无缝地将其与 `DRAGCorrector` 结合。"
   ]
  },
  {
   "cell_type": "code",
   "execution_count": null,
   "id": "13",
   "metadata": {},
   "outputs": [],
   "source": [
    "# --- 最终可视化验证 (三合一整合版) ---\n",
    "\n",
    "# 1. 实例化 CosineEnvelope\n",
    "cos_envelope = CosineEnvelope(\n",
    "    duration=pulse_duration,\n",
    "    amp=pulse_amp\n",
    ")\n",
    "\n",
    "# 2. 计算包络和导数 (使用标准时间轴)\n",
    "envelope_values_cos = cos_envelope.value(t_list)\n",
    "derivative_values_cos = cos_envelope.derivative(t_list)\n",
    "\n",
    "# 3. 应用 DRAG 修正并获取 RWA 信号\n",
    "cos_sequence = EnvelopeModulatedSequence(envelope=cos_envelope, carrier_freq=qubit_freq)\n",
    "drag_corrected_cos_sequence = drag_corrector.apply(cos_sequence)\n",
    "corrected_rwa_cos = drag_corrected_cos_sequence.get_rwa_signals(t_list)\n",
    "\n",
    "# 4. 获取 Lab Frame 信号 (使用高分辨率时间轴以保证平滑)\n",
    "t_list_high_res = np.linspace(0, pulse_duration, 4001)\n",
    "lab_frame_signal_cos = drag_corrected_cos_sequence.get_lab_frame_signal(t_list_high_res)\n",
    "\n",
    "\n",
    "# 5. 使用 plt.subplots(3, 1) 进行统一绘图\n",
    "fig, axes = plt.subplots(3, 1, figsize=(10, 12), sharex=True)\n",
    "fig.suptitle(\"CosineEnvelope 功能完整验证\", fontsize=18)\n",
    "\n",
    "# -- 子图 1: 基础包络与导数 --\n",
    "ax1 = axes[0]\n",
    "ax1.plot(t_list, envelope_values_cos, 'b-', linewidth=2, label=r\"余弦包络 $\\Omega(t)$\")\n",
    "ax1.plot(t_list, derivative_values_cos, 'g--', linewidth=2, label=r\"解析导数 $\\dot{\\Omega}(t)$\")\n",
    "ax1.set_title(\"1. 基础包络 (CosineEnvelope)\", fontsize=14)\n",
    "ax1.set_ylabel(\"幅度 (rad/ns)\")\n",
    "ax1.legend(fontsize=12)\n",
    "ax1.grid(True)\n",
    "\n",
    "# -- 子图 2: DRAG 修正后的 RWA 信号 --\n",
    "ax2 = axes[1]\n",
    "ax2.plot(t_list, corrected_rwa_cos['I'], 'b-', linewidth=2, label=r\"修正后的 I(t)\")\n",
    "ax2.plot(t_list, corrected_rwa_cos['Q'], 'r-', linewidth=2, label=r\"修正后的 Q(t)\")\n",
    "ax2.set_title(\"2. RWA 慢变包络 (应用 DRAG)\", fontsize=14)\n",
    "ax2.set_ylabel(\"幅度 (rad/ns)\")\n",
    "ax2.legend(fontsize=12)\n",
    "ax2.grid(True)\n",
    "\n",
    "# -- 子图 3: Lab Frame 物理信号 --\n",
    "ax3 = axes[2]\n",
    "ax3.plot(t_list_high_res, lab_frame_signal_cos, color='purple', linewidth=1.5)\n",
    "ax3.set_title(r\"3. Lab Frame 物理信号 $S(t)$\", fontsize=14)\n",
    "ax3.set_xlabel(\"时间 (ns)\")\n",
    "ax3.set_ylabel(\"幅度 (rad/ns)\")\n",
    "ax3.grid(True, which='both', linestyle='--', linewidth=0.5)\n",
    "\n",
    "# 自动调整布局防止重叠\n",
    "plt.tight_layout(rect=(0, 0.03, 1, 0.95))\n",
    "plt.show()"
   ]
  },
  {
   "cell_type": "code",
   "execution_count": null,
   "id": "14",
   "metadata": {},
   "outputs": [],
   "source": []
  }
 ],
 "metadata": {
  "kernelspec": {
   "display_name": "qutip-env",
   "language": "python",
   "name": "python3"
  },
  "language_info": {
   "codemirror_mode": {
    "name": "ipython",
    "version": 3
   },
   "file_extension": ".py",
   "mimetype": "text/x-python",
   "name": "python",
   "nbconvert_exporter": "python",
   "pygments_lexer": "ipython3",
   "version": "3.11.13"
  }
 },
 "nbformat": 4,
 "nbformat_minor": 5
}
